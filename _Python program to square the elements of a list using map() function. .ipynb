{
 "cells": [
  {
   "cell_type": "code",
   "execution_count": 1,
   "id": "4122445f",
   "metadata": {},
   "outputs": [
    {
     "name": "stdout",
     "output_type": "stream",
     "text": [
      "sample list: [4, 5, 2, 9]\n",
      "Square the elements of the said list:\n",
      "[16, 25, 4, 81]\n"
     ]
    }
   ],
   "source": [
    "def fun(n):\n",
    "    return n*n\n",
    "nums = [4,5,2,9]\n",
    "print(\"sample list:\",nums)\n",
    "result = map(fun,nums)\n",
    "print(\"Square the elements of the said list:\")\n",
    "print(list(result))"
   ]
  },
  {
   "cell_type": "code",
   "execution_count": null,
   "id": "fadbdba5",
   "metadata": {},
   "outputs": [],
   "source": []
  }
 ],
 "metadata": {
  "kernelspec": {
   "display_name": "Python 3 (ipykernel)",
   "language": "python",
   "name": "python3"
  },
  "language_info": {
   "codemirror_mode": {
    "name": "ipython",
    "version": 3
   },
   "file_extension": ".py",
   "mimetype": "text/x-python",
   "name": "python",
   "nbconvert_exporter": "python",
   "pygments_lexer": "ipython3",
   "version": "3.10.0"
  }
 },
 "nbformat": 4,
 "nbformat_minor": 5
}
